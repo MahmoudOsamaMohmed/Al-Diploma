{
 "cells": [
  {
   "cell_type": "code",
   "execution_count": 28,
   "id": "27b012a4",
   "metadata": {},
   "outputs": [
    {
     "data": {
      "text/plain": [
       "{'a': ['b', 'c', 'f'],\n",
       " 'b': ['c', 'e'],\n",
       " 'c': ['f', 'd', 'e', 'a', 'b'],\n",
       " 'f': [],\n",
       " 'e': ['b', 'c'],\n",
       " 'd': ['c']}"
      ]
     },
     "execution_count": 28,
     "metadata": {},
     "output_type": "execute_result"
    }
   ],
   "source": [
    "graph = {}\n",
    "\n",
    "def addEdge(graph,node,edge):\n",
    "        if not edge in graph.keys():\n",
    "            graph[edge] = []\n",
    "        graph[node].append(edge)\n",
    "        return graph\n",
    "\n",
    "def addnode(graph,node,edges):\n",
    "    graph[node] = []\n",
    "    for edge in edges:\n",
    "        if not edge in graph.keys():\n",
    "            graph[edge] = []\n",
    "        graph[node].append(edge)\n",
    "\n",
    "    return graph\n",
    "\n",
    "graph = addnode(graph,\"a\",[\"b\",\"c\",\"f\"])\n",
    "graph = addEdge(graph,\"c\",\"f\")\n",
    "#addEdge(graph,'a','c')\n",
    "addEdge(graph,'b','c')\n",
    "addEdge(graph,'b','e')\n",
    "addEdge(graph,'c','d')\n",
    "addEdge(graph,'c','e')\n",
    "addEdge(graph,'c','a')\n",
    "addEdge(graph,'c','b')\n",
    "addEdge(graph,'e','b')\n",
    "addEdge(graph,'d','c')\n",
    "addEdge(graph,'e','c')"
   ]
  },
  {
   "cell_type": "code",
   "execution_count": 29,
   "id": "062066f2",
   "metadata": {},
   "outputs": [
    {
     "name": "stdout",
     "output_type": "stream",
     "text": [
      "{'a': ['b', 'c', 'f'], 'b': ['c', 'e'], 'c': ['f', 'd', 'e', 'a', 'b'], 'f': [], 'e': ['b', 'c'], 'd': ['c']}\n"
     ]
    }
   ],
   "source": [
    "print(graph)"
   ]
  },
  {
   "cell_type": "code",
   "execution_count": 30,
   "id": "203697f0",
   "metadata": {},
   "outputs": [],
   "source": [
    "def find_path(graph, start, end, path=[]):\n",
    "    path = path + [start]\n",
    "    if start == end:\n",
    "        return path\n",
    "    for node in graph[start]:\n",
    "        if node not in path:\n",
    "            newpath = find_path(graph, node, end, path)\n",
    "            if newpath:\n",
    "                return newpath"
   ]
  },
  {
   "cell_type": "code",
   "execution_count": 31,
   "id": "8729285b",
   "metadata": {},
   "outputs": [
    {
     "name": "stdout",
     "output_type": "stream",
     "text": [
      "['c', 'e', 'b']\n"
     ]
    }
   ],
   "source": [
    "print(find_path(graph,\"c\",\"b\"))"
   ]
  },
  {
   "cell_type": "code",
   "execution_count": 32,
   "id": "5488c523",
   "metadata": {},
   "outputs": [],
   "source": [
    "def find_all_paths(graph, start, end, path =[]):\n",
    "    path = path + [start]\n",
    "    if start == end:\n",
    "        return [path]\n",
    "    paths = []\n",
    "    for node in graph[start]:\n",
    "        if node not in path:\n",
    "            newpaths = find_all_paths(graph, node, end, path)\n",
    "        for newpath in newpaths:\n",
    "            paths.append(newpath)\n",
    "    return paths"
   ]
  },
  {
   "cell_type": "code",
   "execution_count": 33,
   "id": "171022b9",
   "metadata": {},
   "outputs": [
    {
     "name": "stdout",
     "output_type": "stream",
     "text": [
      "[['d', 'c']]\n"
     ]
    }
   ],
   "source": [
    "print(find_all_paths(graph, 'd', 'c'))"
   ]
  }
 ],
 "metadata": {
  "kernelspec": {
   "display_name": "Python 3 (ipykernel)",
   "language": "python",
   "name": "python3"
  },
  "language_info": {
   "codemirror_mode": {
    "name": "ipython",
    "version": 3
   },
   "file_extension": ".py",
   "mimetype": "text/x-python",
   "name": "python",
   "nbconvert_exporter": "python",
   "pygments_lexer": "ipython3",
   "version": "3.9.7"
  }
 },
 "nbformat": 4,
 "nbformat_minor": 5
}
