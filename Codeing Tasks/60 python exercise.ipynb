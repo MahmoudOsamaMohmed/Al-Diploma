{
 "cells": [
  {
   "cell_type": "markdown",
   "id": "759d04ba",
   "metadata": {},
   "source": [
    "**1-Write a Python program to calculate the length of a string using 2 ways"
   ]
  },
  {
   "cell_type": "code",
   "execution_count": 1,
   "id": "e434c950",
   "metadata": {},
   "outputs": [
    {
     "name": "stdout",
     "output_type": "stream",
     "text": [
      "29\n",
      "29\n"
     ]
    }
   ],
   "source": [
    "string = \"mahmoud osama mohmaed soliman\"\n",
    "print(len(string))\n",
    "length = 0\n",
    "for i in string:\n",
    "    length = length + 1\n",
    "print(length)"
   ]
  },
  {
   "cell_type": "markdown",
   "id": "d7cc9da7",
   "metadata": {},
   "source": [
    "**2-Write a Python program to get a string made of the first 2 and last 2 characters of a given string. If the string length is less than 2, return the empty string instead (\"##Sample String : 'w3resource'\n",
    "Expected Result : 'w3ce'\n",
    "##Sample String : 'w3'\n",
    "Expected Result : 'w3w3'\n",
    "##Sample String : ' w'\n",
    "Expected Result : Empty String)"
   ]
  },
  {
   "cell_type": "code",
   "execution_count": 2,
   "id": "dafa9dd8",
   "metadata": {},
   "outputs": [
    {
     "name": "stdout",
     "output_type": "stream",
     "text": [
      "mahmoud\n",
      "maud\n"
     ]
    }
   ],
   "source": [
    "string = input()\n",
    "if len(string)<2:\n",
    "    print(\"\")\n",
    "else:\n",
    "    print(string[0] + string[1] + string[-2] +string[-1])"
   ]
  },
  {
   "cell_type": "markdown",
   "id": "1534f956",
   "metadata": {},
   "source": [
    "**3-Write a Python program to add 'ing' at the end of a given string (length should be at least 3). If the given string already ends with 'ing', add 'ly' instead. If the string length of the given string is less than 3, leave it unchanged. (Sample String : 'abc'\n",
    "Expected Result : 'abcing')"
   ]
  },
  {
   "cell_type": "code",
   "execution_count": 3,
   "id": "7ff8cec4",
   "metadata": {},
   "outputs": [
    {
     "name": "stdout",
     "output_type": "stream",
     "text": [
      "mahmoud\n",
      "mahmouding\n"
     ]
    }
   ],
   "source": [
    "string = input()\n",
    "if len(string)<3:\n",
    "    string=string\n",
    "else:\n",
    "    if string.endswith(\"ing\"):\n",
    "        string = string + \"ly\"\n",
    "    else:\n",
    "        string = string + \"ing\"\n",
    "print(string)"
   ]
  },
  {
   "cell_type": "markdown",
   "id": "1c0a6627",
   "metadata": {},
   "source": [
    "**4-Write a Python function that takes a list of words and return the longest word and the length of the longest one\n",
    "(Longest word: Exercises\n",
    "Length of the longest word: 9)"
   ]
  },
  {
   "cell_type": "code",
   "execution_count": 4,
   "id": "397341d9",
   "metadata": {},
   "outputs": [
    {
     "name": "stdout",
     "output_type": "stream",
     "text": [
      "abcdefghijklmno\n",
      "15\n"
     ]
    }
   ],
   "source": [
    "words=[\"mahmoud\",\"abdelkhalec\",\"abdallh\",\"abcdefghijk\",\"abdelrahman\",\"ahmed\",\"helwan\",\"abcdefghijklmno\"]\n",
    "longest_word = 0\n",
    "longest_length = 0\n",
    "for word in words:\n",
    "    if len(word)>longest_length:\n",
    "        longest_word = word\n",
    "        longest_length=len(word)\n",
    "    elif len(word)==longest_length:\n",
    "        longest_word = [longest_word , word]\n",
    "print(longest_word)\n",
    "print(longest_length)"
   ]
  },
  {
   "cell_type": "markdown",
   "id": "53a03a6a",
   "metadata": {},
   "source": [
    "**5-Write a Python program to change a given string to a newly string where the first and last chars have been exchanged using 2 ways (Sample String:abca  Expected Result:ebce)"
   ]
  },
  {
   "cell_type": "code",
   "execution_count": 5,
   "id": "fd327d2a",
   "metadata": {},
   "outputs": [
    {
     "name": "stdout",
     "output_type": "stream",
     "text": [
      "dahmouM\n",
      "dahmouM\n"
     ]
    }
   ],
   "source": [
    "name = \"Mahmoud\"\n",
    "way1 = name[-1] + name[1:-1] + name[0]\n",
    "temp = name[-1]\n",
    "name = name.replace(name[-1],name[0])\n",
    "name = name.replace(name[0],temp,1)\n",
    "\n",
    "print(way1)\n",
    "print(name)\n"
   ]
  },
  {
   "cell_type": "markdown",
   "id": "25f89808",
   "metadata": {},
   "source": [
    "**6-Write a Python program to remove characters that have odd index values in a given string (Sample String:abca Expected Result:ac)"
   ]
  },
  {
   "cell_type": "code",
   "execution_count": 6,
   "id": "05959bd7",
   "metadata": {},
   "outputs": [
    {
     "name": "stdout",
     "output_type": "stream",
     "text": [
      "mhuoaaome\n"
     ]
    }
   ],
   "source": [
    "name = \"mahoudosamamohmaed\"\n",
    "print(name[0::2])"
   ]
  },
  {
   "cell_type": "markdown",
   "id": "eb16e898",
   "metadata": {},
   "source": [
    "**7-Write a Python program to count the occurrences of each word in a given sentence (Sample String:amr and ahmed are frindes but amr is the tallest Expected Result:2)*"
   ]
  },
  {
   "cell_type": "code",
   "execution_count": 7,
   "id": "01ce6cf5",
   "metadata": {},
   "outputs": [
    {
     "name": "stdout",
     "output_type": "stream",
     "text": [
      "helwan\n",
      "3\n"
     ]
    }
   ],
   "source": [
    "string = \"I am Mahmoud osama , I study in helwan university , helwan university is too hot and too far so don't go to helwan university\"\n",
    "words = string.split(\" \")\n",
    "list_Of_words = set(words)\n",
    "the_most = 0\n",
    "number=0\n",
    "for word in list_Of_words:\n",
    "    if words.count(word)>number:\n",
    "        the_most = word\n",
    "        number =words.count(word)\n",
    "print(the_most)\n",
    "print(number)\n",
    "    "
   ]
  },
  {
   "cell_type": "markdown",
   "id": "4e8125f1",
   "metadata": {},
   "source": [
    "**8-Write a Python script that takes input from the user and displays that input back in upper and lower cases"
   ]
  },
  {
   "cell_type": "code",
   "execution_count": 8,
   "id": "66c8f778",
   "metadata": {},
   "outputs": [
    {
     "name": "stdout",
     "output_type": "stream",
     "text": [
      "Mahmoud osama MOHMED sOLIMAN\n",
      "MAHMOUD OSAMA MOHMED SOLIMAN\n",
      "mahmoud osama mohmed soliman\n",
      "mAHMOUD OSAMA mohmed Soliman\n"
     ]
    }
   ],
   "source": [
    "x = input()\n",
    "print(x.upper())\n",
    "print(x.lower())\n",
    "print(x.swapcase())"
   ]
  },
  {
   "cell_type": "markdown",
   "id": "fcd68aa1",
   "metadata": {},
   "source": [
    "**9-Write a Python function to reverse a string if its length is a multiple of 4"
   ]
  },
  {
   "cell_type": "code",
   "execution_count": 9,
   "id": "0671a931",
   "metadata": {},
   "outputs": [
    {
     "name": "stdout",
     "output_type": "stream",
     "text": [
      "hlladba namilos demhom amaso duomham\n",
      "36\n"
     ]
    }
   ],
   "source": [
    "string =\"mahmoud osama mohmed soliman abdallh\"\n",
    "if len(string)%4==0:\n",
    "    string=string[::-1]\n",
    "print(string)\n",
    "print(len(string))"
   ]
  },
  {
   "cell_type": "markdown",
   "id": "b577c68d",
   "metadata": {},
   "source": [
    "**10- Write a Python program to remove a newline in Python"
   ]
  },
  {
   "cell_type": "code",
   "execution_count": 10,
   "id": "e0c6525a",
   "metadata": {},
   "outputs": [
    {
     "name": "stdout",
     "output_type": "stream",
     "text": [
      "I am Mahmoud osama\n",
      " , I study in helwan university\n",
      " , helwan university is too hot and too far so don't go to helwan university\n",
      "\n",
      "I am Mahmoud osama  , I study in helwan university  , helwan university is too hot and too far so don't go to helwan university \n"
     ]
    }
   ],
   "source": [
    "string = \"I am Mahmoud osama\\n , I study in helwan university\\n , helwan university is too hot and too far so don't go to helwan university\\n\"\n",
    "print(string)\n",
    "print(string.replace(\"\\n\",\" \"))"
   ]
  },
  {
   "cell_type": "markdown",
   "id": "80db5ae0",
   "metadata": {},
   "source": [
    "**11-Write a Python program to check whether a string starts with specified characters"
   ]
  },
  {
   "cell_type": "code",
   "execution_count": 11,
   "id": "0cc4e03e",
   "metadata": {},
   "outputs": [
    {
     "name": "stdout",
     "output_type": "stream",
     "text": [
      "False\n"
     ]
    }
   ],
   "source": [
    "string = \"mahmoud osama\"\n",
    "print(string.startswith(\"o\"))"
   ]
  },
  {
   "cell_type": "markdown",
   "id": "593a68db",
   "metadata": {},
   "source": [
    "**12- Write a Python program to add prefix text to all of the lines in a string"
   ]
  },
  {
   "cell_type": "code",
   "execution_count": 12,
   "id": "d2e46ada",
   "metadata": {},
   "outputs": [
    {
     "name": "stdout",
     "output_type": "stream",
     "text": [
      ">I am Mahmoud osama\n",
      "> , I study in helwan university\n",
      "> , helwan university is too hot and too far so don't go to helwan university\n",
      ">\n"
     ]
    }
   ],
   "source": [
    "string = \"I am Mahmoud osama\\n , I study in helwan university\\n , helwan university is too hot and too far so don't go to helwan university\\n\"\n",
    "list1=string.split('\\n')\n",
    "\n",
    "for i in list1:\n",
    "    print(\">\"+i)"
   ]
  },
  {
   "cell_type": "markdown",
   "id": "86fa1543",
   "metadata": {},
   "source": [
    "**13-Write a Python program to print the following numbers up to 2 decimal places"
   ]
  },
  {
   "cell_type": "code",
   "execution_count": 13,
   "id": "cd4a9d89",
   "metadata": {},
   "outputs": [
    {
     "name": "stdout",
     "output_type": "stream",
     "text": [
      "144.16\n"
     ]
    }
   ],
   "source": [
    "x = 144.1596497913\n",
    "print(\"{:.2f}\".format(x))"
   ]
  },
  {
   "cell_type": "markdown",
   "id": "452c0ab0",
   "metadata": {},
   "source": [
    "**14-Write a Python program to print the following numbers up to 2 decimal places with a sign"
   ]
  },
  {
   "cell_type": "code",
   "execution_count": 14,
   "id": "73e82479",
   "metadata": {},
   "outputs": [
    {
     "name": "stdout",
     "output_type": "stream",
     "text": [
      "+144.16\n"
     ]
    }
   ],
   "source": [
    "x = 144.1596497913\n",
    "print(\"{:+.2f}\".format(x))"
   ]
  },
  {
   "cell_type": "markdown",
   "id": "32b1811a",
   "metadata": {},
   "source": [
    "**15-Write a Python program to display a number with a comma separator"
   ]
  },
  {
   "cell_type": "code",
   "execution_count": 15,
   "id": "f30fc0b6",
   "metadata": {},
   "outputs": [
    {
     "name": "stdout",
     "output_type": "stream",
     "text": [
      "13,489,267\n"
     ]
    }
   ],
   "source": [
    "number = 13489267\n",
    "print(\"{:,}\".format(number))"
   ]
  },
  {
   "cell_type": "markdown",
   "id": "0477f487",
   "metadata": {},
   "source": [
    "**16-Write a Python program to reverse a string using 2 ways"
   ]
  },
  {
   "cell_type": "code",
   "execution_count": 16,
   "id": "aa8beec8",
   "metadata": {},
   "outputs": [
    {
     "name": "stdout",
     "output_type": "stream",
     "text": [
      "mahmoud osama mohmed soliman abdallh\n",
      "hlladba namilos demhom amaso duomham\n",
      "hlladba namilos demhom amaso duomham\n"
     ]
    }
   ],
   "source": [
    "string =\"mahmoud osama mohmed soliman abdallh\"\n",
    "way1=string[::-1]\n",
    "way2 = \"\"\n",
    "for i in string:\n",
    "    way2 = i + way2\n",
    "print(string)\n",
    "print(way1)\n",
    "print(way2)"
   ]
  },
  {
   "cell_type": "markdown",
   "id": "5afc3166",
   "metadata": {},
   "source": [
    " **17-Write a Python program to count repeated characters in a string (hint:use dictionary)"
   ]
  },
  {
   "cell_type": "code",
   "execution_count": 17,
   "id": "515a469c",
   "metadata": {},
   "outputs": [
    {
     "name": "stdout",
     "output_type": "stream",
     "text": [
      "{'I': 2, ' ': 24, 'a': 9, 'm': 3, 'M': 1, 'h': 5, 'o': 11, 'u': 5, 'd': 4, 's': 7, ',': 2, 't': 9, 'y': 4, 'i': 8, 'n': 9, 'e': 6, 'l': 3, 'w': 3, 'v': 3, 'r': 4, 'f': 1, \"'\": 1, 'g': 1}\n"
     ]
    }
   ],
   "source": [
    "string = \"I am Mahmoud osama , I study in helwan university , helwan university is too hot and too far so don't go to helwan university\"\n",
    "repeated_characters = {}\n",
    "for i in string:\n",
    "    repeated_characters[i]=string.count(i)\n",
    "print(repeated_characters)"
   ]
  },
  {
   "cell_type": "markdown",
   "id": "ae14e4e5",
   "metadata": {},
   "source": [
    "**18-Write a Python program to find the first non-repeating character in a given string"
   ]
  },
  {
   "cell_type": "code",
   "execution_count": 18,
   "id": "d73778e5",
   "metadata": {},
   "outputs": [
    {
     "name": "stdout",
     "output_type": "stream",
     "text": [
      "M\n"
     ]
    }
   ],
   "source": [
    "string = \"I am Mahmoud osama , I study in helwan university , helwan university is too hot and too far so don't go to helwan university\"\n",
    "for i in string:\n",
    "    if string.count(i)==1:\n",
    "        print(i)\n",
    "        break"
   ]
  },
  {
   "cell_type": "markdown",
   "id": "3adf5669",
   "metadata": {},
   "source": [
    "**19-Write a Python program to remove spaces from a given string"
   ]
  },
  {
   "cell_type": "code",
   "execution_count": 19,
   "id": "b4f22602",
   "metadata": {},
   "outputs": [
    {
     "name": "stdout",
     "output_type": "stream",
     "text": [
      "IamMahmoudosama,Istudyinhelwanuniversity,helwanuniversityistoohotandtoofarsodon'tgotohelwanuniversity\n"
     ]
    }
   ],
   "source": [
    "string = \"I am Mahmoud osama , I study in helwan university , helwan university is too hot and too far so don't go to helwan university\"\n",
    "string = string.replace(\" \",\"\")\n",
    "print(string)"
   ]
  },
  {
   "cell_type": "markdown",
   "id": "734de60c",
   "metadata": {},
   "source": [
    "**20-Write a Python program to count the number of non-empty substrings of a given string"
   ]
  },
  {
   "cell_type": "code",
   "execution_count": 20,
   "id": "ef3f2274",
   "metadata": {},
   "outputs": [
    {
     "name": "stdout",
     "output_type": "stream",
     "text": [
      "406\n"
     ]
    }
   ],
   "source": [
    "string = \"mahmoud osama mohmed soliman\"\n",
    "length = len(string)\n",
    "print(int(length * (length + 1) / 2))"
   ]
  },
  {
   "cell_type": "markdown",
   "id": "509998e2",
   "metadata": {},
   "source": [
    "**21-write a Python program to swap first and last element of any list."
   ]
  },
  {
   "cell_type": "code",
   "execution_count": 21,
   "id": "68692d7f",
   "metadata": {},
   "outputs": [
    {
     "name": "stdout",
     "output_type": "stream",
     "text": [
      "[43, 'ahmed', 48.45, True, 'mahmoud', 'osama', 48, 19, 15]\n"
     ]
    }
   ],
   "source": [
    "L = [15,\"ahmed\",48.45,True,\"mahmoud\",\"osama\",48,19,43]\n",
    "temp = L[0]\n",
    "L[0] = L[-1]\n",
    "L[-1] = temp\n",
    "print(L)"
   ]
  },
  {
   "cell_type": "markdown",
   "id": "959e0837",
   "metadata": {},
   "source": [
    "**22-Given a list in Python and provided the positions of the elements, write a program to swap the two elements in the list. (Input : List = [23, 65, 19, 90], pos1 = 1, pos2 = 3\n",
    "Output : [19, 65, 23, 90])"
   ]
  },
  {
   "cell_type": "code",
   "execution_count": 22,
   "id": "225d8c6d",
   "metadata": {},
   "outputs": [
    {
     "name": "stdout",
     "output_type": "stream",
     "text": [
      "input the list : 23,65,19,90\n",
      "position 1 : 1\n",
      "position 2 : 2\n",
      "['23', '19', '65', '90']\n"
     ]
    }
   ],
   "source": [
    "input_list = input(\"input the list : \")\n",
    "input_list = input_list.split(\",\")\n",
    "pos1 = int(input(\"position 1 : \"))\n",
    "pos2 = int(input(\"position 2 : \"))\n",
    "temp = input_list[pos1]\n",
    "input_list[pos1]=input_list[pos2]\n",
    "input_list[pos2]=temp\n",
    "print(input_list)\n"
   ]
  },
  {
   "cell_type": "markdown",
   "id": "66fc6682",
   "metadata": {},
   "source": [
    "**23- search for the all ways to know the length of the list*"
   ]
  },
  {
   "cell_type": "code",
   "execution_count": 23,
   "id": "dd27736f",
   "metadata": {},
   "outputs": [
    {
     "name": "stdout",
     "output_type": "stream",
     "text": [
      "7\n",
      "7\n"
     ]
    }
   ],
   "source": [
    "elements = ['mahmoud', 'osama', 'ali', 'ahmed', 'khaled','soliman','mohmed']\n",
    "print(len(elements))\n",
    "length = 0\n",
    "for i in elements:\n",
    "    length  +=1\n",
    "print(length)"
   ]
  },
  {
   "cell_type": "markdown",
   "id": "52b1b7cb",
   "metadata": {},
   "source": [
    "**24- write a Python code to find the Maximum number of list of numbers*"
   ]
  },
  {
   "cell_type": "code",
   "execution_count": 24,
   "id": "d6915af6",
   "metadata": {},
   "outputs": [
    {
     "name": "stdout",
     "output_type": "stream",
     "text": [
      "97\n"
     ]
    }
   ],
   "source": [
    "elements = [15,34,97,84,68,49,47,67,49,47,84,67,94,10,2,14,52,31,48]\n",
    "maxnum=elements[0]\n",
    "for i in elements:\n",
    "    if i>maxnum:\n",
    "        maxnum = i\n",
    "print(maxnum)\n"
   ]
  },
  {
   "cell_type": "markdown",
   "id": "5cb01e02",
   "metadata": {},
   "source": [
    "**25- write a Python code to find the Minimum number of list of numbers*"
   ]
  },
  {
   "cell_type": "code",
   "execution_count": 25,
   "id": "21f8cbd6",
   "metadata": {},
   "outputs": [
    {
     "name": "stdout",
     "output_type": "stream",
     "text": [
      "2\n"
     ]
    }
   ],
   "source": [
    "elements = [15,34,97,84,68,49,47,67,49,47,84,67,94,10,2,14,52,31,48]\n",
    "mininum=elements[0]\n",
    "for i in elements:\n",
    "    if i<mininum:\n",
    "        mininum = i\n",
    "print(mininum)\n"
   ]
  },
  {
   "cell_type": "markdown",
   "id": "96822d96",
   "metadata": {},
   "source": [
    "**26-search for if an elem is existing in list"
   ]
  },
  {
   "cell_type": "code",
   "execution_count": 26,
   "id": "51ca5c9a",
   "metadata": {},
   "outputs": [
    {
     "name": "stdout",
     "output_type": "stream",
     "text": [
      "input integar number : 49\n",
      "True\n"
     ]
    }
   ],
   "source": [
    "elements = [15,34,97,84,68,49,47,67,49,47,84,67,94,10,2,14,52,31,48]\n",
    "element = int(input(\"input integar number : \"))\n",
    "print(element in elements)"
   ]
  },
  {
   "cell_type": "markdown",
   "id": "d9557da7",
   "metadata": {},
   "source": [
    "**27- clear python list using different ways"
   ]
  },
  {
   "cell_type": "code",
   "execution_count": 27,
   "id": "b69858a3",
   "metadata": {},
   "outputs": [
    {
     "name": "stdout",
     "output_type": "stream",
     "text": [
      "[]\n"
     ]
    }
   ],
   "source": [
    "elements = [15,34,97,84,68,49,47,67,49,47,84,67,94,10,2,14,52,31,48]\n",
    "elements.clear()\n",
    "i=0\n",
    "while i < len(elements):\n",
    "    elements.pop()\n",
    "print(elements)"
   ]
  },
  {
   "cell_type": "markdown",
   "id": "52160e88",
   "metadata": {},
   "source": [
    "**28-remove duplicated elements from a list"
   ]
  },
  {
   "cell_type": "code",
   "execution_count": 28,
   "id": "5e362228",
   "metadata": {},
   "outputs": [
    {
     "name": "stdout",
     "output_type": "stream",
     "text": [
      "[97, 34, 67, 68, 2, 10, 14, 15, 47, 49, 48, 84, 52, 94, 31]\n"
     ]
    }
   ],
   "source": [
    "elements = [15,34,97,84,68,49,47,67,49,47,84,67,94,10,2,14,52,31,48,15,97,48]\n",
    "elements=list(set(elements))\n",
    "print(elements)"
   ]
  },
  {
   "cell_type": "markdown",
   "id": "282337f7",
   "metadata": {},
   "source": [
    "**29-Given list values and keys list, convert these values to key value pairs in form of list of dictionaries. (Input : test_list = [“Gfg”, 3, “is”, 8], key_list = [“name”, “id”]\n",
    "Output : [{‘name’: ‘Gfg’, ‘id’: 3}, {‘name’: ‘is’, ‘id’: 8}])"
   ]
  },
  {
   "cell_type": "code",
   "execution_count": 29,
   "id": "4d4e2d28",
   "metadata": {},
   "outputs": [
    {
     "name": "stdout",
     "output_type": "stream",
     "text": [
      "[{'name': 'Gfg', 'id': 3}, {'name': 'is', 'id': 8}]\n"
     ]
    }
   ],
   "source": [
    "test_list = [\"Gfg\", 3, \"is\", 8]\n",
    "key_list = [\"name\", \"id\"]\n",
    "list1=[]\n",
    "for idx in range(0,len(test_list), 2):\n",
    "    list1.append({key_list[0]: test_list[idx], key_list[1] : test_list[idx + 1]})\n",
    "print(list1)"
   ]
  },
  {
   "cell_type": "markdown",
   "id": "c26b6e9f",
   "metadata": {},
   "source": [
    "**30-write a python program to count unique values inside a list using different ways*"
   ]
  },
  {
   "cell_type": "code",
   "execution_count": 30,
   "id": "72132667",
   "metadata": {},
   "outputs": [
    {
     "name": "stdout",
     "output_type": "stream",
     "text": [
      "15\n",
      "15\n"
     ]
    }
   ],
   "source": [
    "elements = [15,34,97,84,68,49,47,67,49,47,84,67,94,10,2,14,52,31,48,15,97,48]\n",
    "\n",
    "way1 = len(set(elements))\n",
    "\n",
    "unique_list=[]\n",
    "way2 = 0\n",
    "\n",
    "for element in elements:\n",
    "    if element not in unique_list:\n",
    "        unique_list.append(element)\n",
    "        way2 += 1\n",
    "\n",
    "print(way1)\n",
    "print(way2)"
   ]
  },
  {
   "cell_type": "markdown",
   "id": "fed6677c",
   "metadata": {},
   "source": [
    "**31-write a python program Extract all elements with Frequency greater than K (Input : test_list = [4, 6, 4, 3, 3, 4, 3, 4, 3, 8], K = 3 \n",
    "Output : [4, 3] )"
   ]
  },
  {
   "cell_type": "code",
   "execution_count": 31,
   "id": "d81f3f9d",
   "metadata": {},
   "outputs": [
    {
     "name": "stdout",
     "output_type": "stream",
     "text": [
      "input the limit of freq : 2\n",
      "{34, 26, 15}\n"
     ]
    }
   ],
   "source": [
    "elements= [15,34,16,45,15,26,15,32,34,15,26,34,26,15,45,91,26,34]\n",
    "list_freq=[]\n",
    "limit = int(input(\"input the limit of freq : \"))\n",
    "for i in elements:\n",
    "    if elements.count(i) > limit:\n",
    "        list_freq.append(i)\n",
    "print(set(list_freq))"
   ]
  },
  {
   "cell_type": "markdown",
   "id": "caca5224",
   "metadata": {},
   "source": [
    "**32-write a python program to find the Strongest Neighbour (Input: 1 2 2 3 4 5\n",
    "Output: 2 2 3 4 5)"
   ]
  },
  {
   "cell_type": "code",
   "execution_count": 32,
   "id": "39fbd9b2",
   "metadata": {},
   "outputs": [
    {
     "name": "stdout",
     "output_type": "stream",
     "text": [
      "[2, 2, 3, 4, 5]\n"
     ]
    }
   ],
   "source": [
    "elements = [1,2,2,3,4,5]\n",
    "strongest_neighbour = []\n",
    "for i in range(1, len(elements)):\n",
    "    x = max(elements[i], elements[i-1])\n",
    "    strongest_neighbour.append(x)\n",
    "print(strongest_neighbour)"
   ]
  },
  {
   "cell_type": "markdown",
   "id": "a9fa8baf",
   "metadata": {},
   "source": [
    "**33-write a Python Program to print all Possible Combinations from the three Digits (Input: [1, 2, 3]\n",
    "Output:\n",
    "1 2 3 ##\n",
    "1 3 2 ##\n",
    "2 1 3 ##\n",
    "2 3 1 ##\n",
    "3 1 2 ##\n",
    "3 2 1)"
   ]
  },
  {
   "cell_type": "code",
   "execution_count": 33,
   "id": "8c520a76",
   "metadata": {},
   "outputs": [
    {
     "name": "stdout",
     "output_type": "stream",
     "text": [
      "[1, 2, 3]\n",
      "[1, 3, 2]\n",
      "[2, 1, 3]\n",
      "[2, 3, 1]\n",
      "[3, 1, 2]\n",
      "[3, 2, 1]\n"
     ]
    }
   ],
   "source": [
    "digits = [1,2,3]\n",
    "for i in digits:\n",
    "    for j in digits:\n",
    "        for k in digits:\n",
    "            if i!=j and j!=k and i!=k:\n",
    "                print([i,j,k])"
   ]
  },
  {
   "cell_type": "markdown",
   "id": "5288bb89",
   "metadata": {},
   "source": [
    "**34-write a Python program to find all the Combinations in the list with the given condition (Input: test_list = [1,2,3] \n",
    "Output: \n",
    " [1], [1, 2], [1, 2, 3], [1, 3]\n",
    " [2], [2, 3], [3])"
   ]
  },
  {
   "cell_type": "code",
   "execution_count": 34,
   "id": "59b89646",
   "metadata": {},
   "outputs": [
    {
     "name": "stdout",
     "output_type": "stream",
     "text": [
      "[1]\n",
      "[1, 2]\n",
      "[1, 2, 3]\n",
      "[2]\n",
      "[2, 3]\n",
      "[3]\n"
     ]
    }
   ],
   "source": [
    "digits = [1,2,3]\n",
    "for i in range(len(digits)):\n",
    "    for j in range(i,len(digits)):\n",
    "        print(digits[i:j+1])\n"
   ]
  },
  {
   "cell_type": "markdown",
   "id": "39973705",
   "metadata": {},
   "source": [
    "**35-write a Python program to get all unique combinations of two Lists (List_1 = [\"a\",\"b\"]\n",
    "List_2 = [1,2]\n",
    "Unique_combination = [[('a',1),('b',2)],[('a',2),('b',1)]] )"
   ]
  },
  {
   "cell_type": "code",
   "execution_count": 35,
   "id": "8c4ba22b",
   "metadata": {},
   "outputs": [
    {
     "name": "stdout",
     "output_type": "stream",
     "text": [
      "[('a', 1), ('a', 2), ('b', 1), ('b', 2)]\n"
     ]
    }
   ],
   "source": [
    "list_1 = ['a','b']\n",
    "list_2 = [1, 2]\n",
    "unique_combinations = []\n",
    " \n",
    "for i in range(len(list_1)):\n",
    "    for j in range(len(list_2)):\n",
    "        unique_combinations.append((list_1[i], list_2[j]))\n",
    " \n",
    "print(unique_combinations)"
   ]
  },
  {
   "cell_type": "markdown",
   "id": "25199af5",
   "metadata": {},
   "source": [
    "**36-Remove all the occurrences of an element from a list in Python (Input : 1 1 2 3 4 5 1 2 1 \n",
    "\n",
    "**Output : 2 3 4 5 2)"
   ]
  },
  {
   "cell_type": "code",
   "execution_count": 36,
   "id": "6dc4c2ba",
   "metadata": {},
   "outputs": [
    {
     "name": "stdout",
     "output_type": "stream",
     "text": [
      "1\n",
      "[2, 3, 4, 5, 2]\n"
     ]
    }
   ],
   "source": [
    "elements = [1 ,1, 2, 3, 4, 5, 1, 2, 1]\n",
    "element  = int(input())\n",
    "res = [i for i in elements if i != element]\n",
    "print(res)"
   ]
  },
  {
   "cell_type": "markdown",
   "id": "bf1a3c93",
   "metadata": {},
   "source": [
    "**37-write a python program to Replace index elements with elements in Other List (The original list 1 is : [‘Gfg’, ‘is’, ‘best’] The original list 2 is : [0, 1, 2, 1, 0, 0, 0, 2, 1, 1, 2, 0] The lists after index elements replacements is : [‘Gfg’, ‘is’, ‘best’, ‘is’, ‘Gfg’, ‘Gfg’, ‘Gfg’, ‘best’, ‘is’, ‘is’, ‘best’, ‘Gfg’])"
   ]
  },
  {
   "cell_type": "code",
   "execution_count": 37,
   "id": "fdd66a71",
   "metadata": {},
   "outputs": [
    {
     "name": "stdout",
     "output_type": "stream",
     "text": [
      "['Gfg', 'is', 'best', 'is', 'Gfg', 'Gfg', 'Gfg', 'best', 'is', 'is', 'best', 'Gfg']\n"
     ]
    }
   ],
   "source": [
    "list_1 = [\"Gfg\", \"is\", \"best\"]\n",
    "list_2 = [0, 1, 2, 1, 0, 0, 0, 2, 1, 1, 2, 0]\n",
    "for i in range (len(list_2)):\n",
    "    list_2[i]=list_1[list_2[i]]\n",
    "print(list_2)"
   ]
  },
  {
   "cell_type": "markdown",
   "id": "af0f56e8",
   "metadata": {},
   "source": [
    "**38- write python program to Retain records with N occurrences of K(Input : test_list = [(4, 5, 5, 4), (5, 4, 3)], K = 5, N = 2 \n",
    "Output : [(4, 5, 5, 4)]\n",
    "Input : test_list = [(4, 5, 5, 4), (5, 4, 3)], K = 5, N = 3 \n",
    "Output : [] )"
   ]
  },
  {
   "cell_type": "code",
   "execution_count": 38,
   "id": "67b06671",
   "metadata": {},
   "outputs": [
    {
     "name": "stdout",
     "output_type": "stream",
     "text": [
      "the number : 4\n",
      "the freq : 2\n",
      "[(4, 5, 5, 4)]\n"
     ]
    }
   ],
   "source": [
    "test_list = [(4, 5, 5, 4), (5, 4, 3)]\n",
    "k = int(input(\"the number : \"))\n",
    "n = int(input(\"the freq : \"))\n",
    "res = [i for i in test_list if i.count(k) == n]\n",
    "print(res)"
   ]
  },
  {
   "cell_type": "markdown",
   "id": "de76f183",
   "metadata": {},
   "source": [
    "**39-write a Python Program to Sort the list according to the column using lambda\n",
    "array = [[1, 3, 3], [2, 1, 2], [3, 2, 1]]\n",
    "Output :\n",
    "Sorted array specific to column 0, [[1, 3, 3], [2, 1, 2], [3, 2, 1]]\n",
    "Sorted array specific to column 1, [[2, 1, 2], [3, 2, 1], [1, 3, 3]]\n",
    "Sorted array specific to column 2, [[3, 2, 1], [2, 1, 2], [1, 3, 3]]"
   ]
  },
  {
   "cell_type": "code",
   "execution_count": 39,
   "id": "dc883308",
   "metadata": {},
   "outputs": [
    {
     "name": "stdout",
     "output_type": "stream",
     "text": [
      "[[3, 2, 1], [2, 1, 2], [1, 3, 3]]\n"
     ]
    }
   ],
   "source": [
    "def myfunc(n):\n",
    "    return n[2]\n",
    "\n",
    "array = [[1, 3, 3], [2, 1, 2], [3, 2, 1]] \n",
    "array.sort(key=myfunc)\n",
    "print(array)"
   ]
  },
  {
   "cell_type": "markdown",
   "id": "76232a11",
   "metadata": {},
   "source": [
    "**40- write a program to Sort Python Dictionaries by Key or Value\n",
    "Input:\n",
    "{'ravi': 10, 'rajnish': 9, 'sanjeev': 15, 'yash': 2, 'suraj': 32}\n",
    "\n",
    "Output: \n",
    "{'rajnish': 9, 'ravi': 10, 'sanjeev': 15, 'suraj': 32, 'yash': 2}*"
   ]
  },
  {
   "cell_type": "code",
   "execution_count": 40,
   "id": "a96db4a0",
   "metadata": {},
   "outputs": [
    {
     "name": "stdout",
     "output_type": "stream",
     "text": [
      "[('yash', 2), ('rajnish', 9), ('ravi', 10), ('sanjeev', 15), ('suraj', 32)]\n",
      "[('rajnish', 9), ('ravi', 10), ('sanjeev', 15), ('suraj', 32), ('yash', 2)]\n"
     ]
    }
   ],
   "source": [
    "dict1 = {'ravi': 10, 'rajnish': 9, 'sanjeev': 15, 'yash': 2, 'suraj': 32}\n",
    "\n",
    "print(sorted(dict1.items(),key = lambda x: x[1]))\n",
    "print(sorted(dict1.items()))"
   ]
  },
  {
   "cell_type": "markdown",
   "id": "ec63c23a",
   "metadata": {},
   "source": [
    "**41-write python program to Remove keys with Values Greater than K ( Including mixed values )\n",
    "nput : test_dict = {‘Gfg’ : 3, ‘is’ : 7, ‘best’ : 10, ‘for’ : 6, ‘geeks’ : ‘CS’},\n",
    "K = 7 \n",
    "Output : {‘Gfg’ : 3, ‘for’ : 6, ‘geeks’ : ‘CS’}"
   ]
  },
  {
   "cell_type": "code",
   "execution_count": 41,
   "id": "e39c3a40",
   "metadata": {},
   "outputs": [
    {
     "name": "stdout",
     "output_type": "stream",
     "text": [
      "7\n",
      "{'Gfg': 3, 'is': 7, 'best': 10, 'for': 6, 'geeks': 3}\n",
      "{'Gfg': 3, 'for': 6, 'geeks': 3}\n"
     ]
    }
   ],
   "source": [
    "dict1 = {\"Gfg\" : 3,\"is\": 7, \"best\" : 10, \"for\" : 6, \"geeks\" : 3}\n",
    "k = int(input(\"\"))\n",
    "print(dict1)\n",
    "dict1 = {key:value for (key, value) in dict1.items() if value < k}\n",
    "print(dict1)\n"
   ]
  },
  {
   "cell_type": "markdown",
   "id": "f143f0fe",
   "metadata": {},
   "source": [
    "**42-Write a Python program to concatenate the following dictionaries to create a new one\n",
    "\n",
    "Sample Dictionary :\n",
    "dic1={1:10, 2:20}\n",
    "dic2={3:30, 4:40}\n",
    "dic3={5:50,6:60}\n",
    "Expected Result : {1: 10, 2: 20, 3: 30, 4: 40, 5: 50, 6: 60}"
   ]
  },
  {
   "cell_type": "code",
   "execution_count": 42,
   "id": "74ffdfea",
   "metadata": {},
   "outputs": [
    {
     "name": "stdout",
     "output_type": "stream",
     "text": [
      "{1: 10, 2: 20, 3: 30, 4: 40, 5: 50, 6: 60}\n"
     ]
    }
   ],
   "source": [
    "dic1={1:10, 2:20}\n",
    "dic2={3:30, 4:40}\n",
    "dic3={5:50,6:60}\n",
    "dic4 = {}\n",
    "for d in (dic1, dic2, dic3): dic4.update(d)\n",
    "print(dic4)"
   ]
  },
  {
   "cell_type": "markdown",
   "id": "fb04c93c",
   "metadata": {},
   "source": [
    "**43-Write a Python program to iterate over dictionaries using for loops"
   ]
  },
  {
   "cell_type": "code",
   "execution_count": 43,
   "id": "6aebc470",
   "metadata": {},
   "outputs": [
    {
     "name": "stdout",
     "output_type": "stream",
     "text": [
      "Gfg corresponds to  3\n",
      "is corresponds to  7\n",
      "best corresponds to  10\n",
      "for corresponds to  6\n",
      "geeks corresponds to  3\n"
     ]
    }
   ],
   "source": [
    "dict1 = {\"Gfg\" : 3,\"is\": 7, \"best\" : 10, \"for\" : 6, \"geeks\" : 3}\n",
    "\n",
    "for key in dict1:\n",
    "     print(key, 'corresponds to ', dict1[key]) "
   ]
  },
  {
   "cell_type": "markdown",
   "id": "5f491a9d",
   "metadata": {},
   "source": [
    "**44- Write a Python script to merge two Python dictionaries"
   ]
  },
  {
   "cell_type": "code",
   "execution_count": 44,
   "id": "b8a14028",
   "metadata": {},
   "outputs": [
    {
     "name": "stdout",
     "output_type": "stream",
     "text": [
      "{1: 10, 2: 20, 3: 30, 4: 40}\n"
     ]
    }
   ],
   "source": [
    "dic1={1:10, 2:20}\n",
    "dic2={3:30, 4:40}\n",
    "merge = dic1.copy()\n",
    "merge.update(dic2)\n",
    "print(merge)"
   ]
  },
  {
   "cell_type": "markdown",
   "id": "216fc72d",
   "metadata": {},
   "source": [
    "**45-Write a Python program to get the maximum and minimum values of a dictionary values"
   ]
  },
  {
   "cell_type": "code",
   "execution_count": 45,
   "id": "d6883f5f",
   "metadata": {},
   "outputs": [
    {
     "name": "stdout",
     "output_type": "stream",
     "text": [
      "60\n",
      "10\n"
     ]
    }
   ],
   "source": [
    "dict1 = {1: 10, 2: 20, 3: 30, 4: 40, 5: 50, 6: 60}\n",
    "print(max(dict1.values()))\n",
    "print(min(dict1.values()))"
   ]
  },
  {
   "cell_type": "markdown",
   "id": "b6a53011",
   "metadata": {},
   "source": [
    "**46- Write a Python program to drop empty items from a given dictionary.\n",
    "Original Dictionary:\n",
    "{'c1': 'Red', 'c2': 'Green', 'c3': None}\n",
    "New Dictionary after dropping empty items:\n",
    "{'c1': 'Red', 'c2': 'Green'}*"
   ]
  },
  {
   "cell_type": "code",
   "execution_count": 46,
   "id": "b5c6fecf",
   "metadata": {},
   "outputs": [
    {
     "name": "stdout",
     "output_type": "stream",
     "text": [
      "{'c1': 'Red', 'c2': 'Green', 'c3': None}\n",
      "{'c1': 'Red', 'c2': 'Green'}\n"
     ]
    }
   ],
   "source": [
    "dict1 = {'c1': 'Red', 'c2': 'Green', 'c3':None}\n",
    "print(dict1)\n",
    "dict1 = {key:value for (key, value) in dict1.items() if value is not None}\n",
    "print(dict1)\n"
   ]
  },
  {
   "cell_type": "markdown",
   "id": "46d718c7",
   "metadata": {},
   "source": [
    "**47-Write a Python program to create a tuple of numbers and print one item"
   ]
  },
  {
   "cell_type": "code",
   "execution_count": 47,
   "id": "13216ff5",
   "metadata": {},
   "outputs": [
    {
     "name": "stdout",
     "output_type": "stream",
     "text": [
      "mahmoud\n"
     ]
    }
   ],
   "source": [
    "elements = ('mahmoud', 'osama', 'ali', 'ahmed', 'khaled','soliman','mohmed')\n",
    "print(elements[0])"
   ]
  },
  {
   "cell_type": "markdown",
   "id": "2be5b56b",
   "metadata": {},
   "source": [
    "**48-Write a Python program to unpack a tuple into several variables"
   ]
  },
  {
   "cell_type": "code",
   "execution_count": 48,
   "id": "595f44be",
   "metadata": {},
   "outputs": [
    {
     "name": "stdout",
     "output_type": "stream",
     "text": [
      "mahmoud osama ali ahmed ['khaled', 'soliman', 'mohmed']\n"
     ]
    }
   ],
   "source": [
    "elements = ('mahmoud', 'osama', 'ali', 'ahmed', 'khaled','soliman','mohmed')\n",
    "a,b,c,d,*e= elements\n",
    "print(a,b,c,d,e)"
   ]
  },
  {
   "cell_type": "markdown",
   "id": "392388a7",
   "metadata": {},
   "source": [
    "**49-Write a Python program to add an item to a tuple"
   ]
  },
  {
   "cell_type": "code",
   "execution_count": 49,
   "id": "54cc092e",
   "metadata": {},
   "outputs": [
    {
     "name": "stdout",
     "output_type": "stream",
     "text": [
      "('mahmoud', 'osama', 'ali', 'ahmed', 'khaled', 'soliman', 'mohmed', 'soliman')\n"
     ]
    }
   ],
   "source": [
    "elements = ('mahmoud', 'osama', 'ali', 'ahmed', 'khaled','soliman','mohmed')\n",
    "elements = list(elements)\n",
    "elements.append(\"soliman\")\n",
    "elements =tuple(elements)\n",
    "print(elements)"
   ]
  },
  {
   "cell_type": "markdown",
   "id": "3e8fd124",
   "metadata": {},
   "source": [
    "**50-Write a Python program to convert a tuple to a string"
   ]
  },
  {
   "cell_type": "code",
   "execution_count": 50,
   "id": "92a71ddc",
   "metadata": {},
   "outputs": [
    {
     "name": "stdout",
     "output_type": "stream",
     "text": [
      "mahmoud osama ali ahmed khaled soliman mohmed \n",
      "<class 'str'>\n"
     ]
    }
   ],
   "source": [
    "elements = ('mahmoud ', 'osama ', 'ali ', 'ahmed ', 'khaled ','soliman ','mohmed ')\n",
    "elements = \"\".join(elements)\n",
    "print(elements)\n",
    "print(type(elements))"
   ]
  },
  {
   "cell_type": "markdown",
   "id": "f4f64ef4",
   "metadata": {},
   "source": [
    "**51-Write a Python program to convert a list to a tuple"
   ]
  },
  {
   "cell_type": "code",
   "execution_count": 51,
   "id": "210d56d3",
   "metadata": {},
   "outputs": [
    {
     "name": "stdout",
     "output_type": "stream",
     "text": [
      "<class 'tuple'>\n"
     ]
    }
   ],
   "source": [
    "elements = [15,53,51,54,36,48,21,29,35,57,84,61,35,45,35,48,47,79,85]\n",
    "elements = tuple(elements)\n",
    "print(type(elements))"
   ]
  },
  {
   "cell_type": "markdown",
   "id": "b1e00ef7",
   "metadata": {},
   "source": [
    "**52-Write a Python program to reverse a tuple"
   ]
  },
  {
   "cell_type": "code",
   "execution_count": 52,
   "id": "f45bfdc7",
   "metadata": {},
   "outputs": [
    {
     "name": "stdout",
     "output_type": "stream",
     "text": [
      "[89, 61, 48, 37, 34, 94, 78, 15]\n"
     ]
    }
   ],
   "source": [
    "tuple_ = (15,78,94,34,37,48,61,89)\n",
    "tuple_ = list(tuple_)\n",
    "tuple_.reverse()\n",
    "print(tuple_)"
   ]
  },
  {
   "cell_type": "markdown",
   "id": "3cd347d1",
   "metadata": {},
   "source": [
    "**53-Write a Python program to replace the last value of tuples in a list.\n",
    "Sample list: [(10, 20, 40), (40, 50, 60), (70, 80, 90)]\n",
    "Expected Output: [(10, 20, 100), (40, 50, 100), (70, 80, 100)]*"
   ]
  },
  {
   "cell_type": "code",
   "execution_count": 53,
   "id": "3c4a2a4c",
   "metadata": {},
   "outputs": [
    {
     "name": "stdout",
     "output_type": "stream",
     "text": [
      "[(15, 48, 32, 100), (94, 65, 87, 100), (14, 98, 32, 100), (78, 94, 63, 100)]\n"
     ]
    }
   ],
   "source": [
    "list_of_tuple = [(15,48,32,48),(94,65,87,49),(14,98,32,64),(78,94,63,24)]\n",
    "for i in range(len(list_of_tuple)):\n",
    "    list_of_tuple[i] = list(list_of_tuple[i])\n",
    "    list_of_tuple[i][-1] = 100\n",
    "    list_of_tuple[i] = tuple(list_of_tuple[i])\n",
    "print(list_of_tuple)"
   ]
  },
  {
   "cell_type": "markdown",
   "id": "76bb7b39",
   "metadata": {},
   "source": [
    "**54-Write a Python program to convert a given string list to a tuple\n",
    "Original string: python 3.0\n",
    "<class 'str'>\n",
    "Convert the said string to a tuple:\n",
    "('p', 'y', 't', 'h', 'o', 'n', '3', '.', '0')"
   ]
  },
  {
   "cell_type": "code",
   "execution_count": 54,
   "id": "51951937",
   "metadata": {},
   "outputs": [
    {
     "name": "stdout",
     "output_type": "stream",
     "text": [
      "('m', 'a', 'h', 'm', 'o', 'u', 'd', ' ', 'o', 's', 'a', 'm', 'a', ' ', 'm', 'o', 'h', 'm', 'e', 'd', ' ', 's', 'o', 'l', 'i', 'm', 'a', 'n')\n"
     ]
    }
   ],
   "source": [
    "string = \"mahmoud osama mohmed soliman\"\n",
    "characters = []\n",
    "for i in string:\n",
    "    characters.append(i)\n",
    "print(tuple(characters))"
   ]
  },
  {
   "cell_type": "markdown",
   "id": "5a1d5d97",
   "metadata": {},
   "source": [
    "**55-Write a Python program to calculate the average value of the numbers in a given tuple of tuples*"
   ]
  },
  {
   "cell_type": "code",
   "execution_count": 55,
   "id": "834e7992",
   "metadata": {},
   "outputs": [
    {
     "name": "stdout",
     "output_type": "stream",
     "text": [
      "[50.25, 76.25, 53.5, 46.25]\n"
     ]
    }
   ],
   "source": [
    "tuple_of_tuple = ((15,48,32,48),(94,65,87,49),(14,98,32,64),(78,94,63,24))\n",
    "average_tuple = [sum(x) / len(x) for x in zip(*tuple_of_tuple)]\n",
    "print(average_tuple)"
   ]
  },
  {
   "cell_type": "markdown",
   "id": "51edab9c",
   "metadata": {},
   "source": [
    "**56-Write a Python program to add member(s) to a set."
   ]
  },
  {
   "cell_type": "code",
   "execution_count": 56,
   "id": "2b65df79",
   "metadata": {},
   "outputs": [
    {
     "name": "stdout",
     "output_type": "stream",
     "text": [
      "45\n",
      "{0, 12, 13, 14, 79, 15, 78, -48, 95, 45, 47, 48, 54, 56, 62, -65}\n"
     ]
    }
   ],
   "source": [
    "number = {15,13,14,79,45,62,48,-65,78,95,12,54,56,0,-48,47}\n",
    "element =input()\n",
    "number.add(int(element))\n",
    "print(number)"
   ]
  },
  {
   "cell_type": "markdown",
   "id": "965590cc",
   "metadata": {},
   "source": [
    "**57-Write a Python program to remove an item from a set if it is present in the set."
   ]
  },
  {
   "cell_type": "code",
   "execution_count": 57,
   "id": "866bab28",
   "metadata": {},
   "outputs": [
    {
     "name": "stdout",
     "output_type": "stream",
     "text": [
      "15\n",
      "{0, 12, 13, 14, 79, 78, -48, 95, 45, 47, 48, 54, 56, 62, -65}\n"
     ]
    }
   ],
   "source": [
    "number = {15,13,14,79,45,62,48,-65,78,95,12,54,56,0,-48,47}\n",
    "element =input()\n",
    "number.discard(int(element))\n",
    "print(number)"
   ]
  },
  {
   "cell_type": "markdown",
   "id": "2b7cfed1",
   "metadata": {},
   "source": [
    "**58-Write a Python program to create an intersection,union,difference and symmetric difference of sets"
   ]
  },
  {
   "cell_type": "code",
   "execution_count": 58,
   "id": "7f94b7fe",
   "metadata": {},
   "outputs": [
    {
     "name": "stdout",
     "output_type": "stream",
     "text": [
      "{26, 84, 63, 15}\n",
      "{78, 15, 14, 79, 19, 84, 20, 24, 26, 94, 38, 42, 48, 56, 58, 59, 62, 63}\n",
      "{78, 48, 20, 24, 62, 59, 94}\n",
      "{38, 42, 14, 79, 19, 56, 58}\n",
      "{58, 38, 42, 14, 79, 78, 48, 19, 20, 62, 56, 24, 59, 94}\n"
     ]
    }
   ],
   "source": [
    "set1 = {15,48,26,78,94,62,84,63,48,24,59,20}\n",
    "set2 = {56,79,14,63,58,79,15,84,26,38,19,42}\n",
    "intersection_set = set1.intersection(set2)\n",
    "union_set = set1.union(set2)\n",
    "set1_differenc = set1.difference(set2)\n",
    "set2_differenc = set2.difference(set1)\n",
    "symmetric_differenc_set = set1.symmetric_difference(set2)\n",
    "print(intersection_set)\n",
    "print(union_set)\n",
    "print(set1_differenc)\n",
    "print(set2_differenc)\n",
    "print(symmetric_differenc_set)"
   ]
  },
  {
   "cell_type": "markdown",
   "id": "b94931e2",
   "metadata": {},
   "source": [
    "**59-Write a Python program to find the maximum and minimum values in a set*"
   ]
  },
  {
   "cell_type": "code",
   "execution_count": 59,
   "id": "203f9600",
   "metadata": {},
   "outputs": [
    {
     "name": "stdout",
     "output_type": "stream",
     "text": [
      "95\n",
      "-65\n"
     ]
    }
   ],
   "source": [
    "number = {15,13,14,79,45,62,48,-65,78,95,12,54,56,0,-48,47}\n",
    "maxnum=list(number)[0]\n",
    "mininum=list(number)[0]\n",
    "for i in number:\n",
    "    if i>maxnum:maxnum=i\n",
    "    if i<mininum:mininum=i\n",
    "print(maxnum)\n",
    "print(mininum)"
   ]
  },
  {
   "cell_type": "markdown",
   "id": "255fd554",
   "metadata": {},
   "source": [
    "**60- Write a Python program that finds all pairs of elements in a list whose sum is equal to a given value."
   ]
  },
  {
   "cell_type": "code",
   "execution_count": 60,
   "id": "c2d94e1f",
   "metadata": {},
   "outputs": [
    {
     "name": "stdout",
     "output_type": "stream",
     "text": [
      "15+85= 100\n",
      "53+47= 100\n",
      "21+79= 100\n",
      "47+53= 100\n",
      "79+21= 100\n",
      "85+15= 100\n"
     ]
    }
   ],
   "source": [
    "elements = [15,53,51,54,36,48,21,29,35,57,84,61,35,45,35,48,47,79,85]\n",
    "for i in elements:\n",
    "    for element in elements:\n",
    "        if (i+element==100):\n",
    "            print(str(i) + \"+\" + str(element) + \"= 100\")"
   ]
  }
 ],
 "metadata": {
  "kernelspec": {
   "display_name": "Python 3 (ipykernel)",
   "language": "python",
   "name": "python3"
  },
  "language_info": {
   "codemirror_mode": {
    "name": "ipython",
    "version": 3
   },
   "file_extension": ".py",
   "mimetype": "text/x-python",
   "name": "python",
   "nbconvert_exporter": "python",
   "pygments_lexer": "ipython3",
   "version": "3.9.7"
  }
 },
 "nbformat": 4,
 "nbformat_minor": 5
}
